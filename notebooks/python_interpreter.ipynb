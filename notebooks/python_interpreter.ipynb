{
 "cells": [
  {
   "cell_type": "code",
   "execution_count": 3,
   "id": "4dd9596a-f72e-4d9f-91f0-fdd978de9717",
   "metadata": {},
   "outputs": [],
   "source": [
    "from langchain_experimental.utilities import PythonREPL"
   ]
  },
  {
   "cell_type": "code",
   "execution_count": 7,
   "id": "d214e9b5-73fd-42db-96c9-297a5d58204e",
   "metadata": {},
   "outputs": [],
   "source": [
    "python_repl = PythonREPL()"
   ]
  },
  {
   "cell_type": "code",
   "execution_count": 5,
   "id": "1042df62-ace2-434f-86c3-a24d405eee20",
   "metadata": {},
   "outputs": [
    {
     "name": "stderr",
     "output_type": "stream",
     "text": [
      "Python REPL can execute arbitrary code. Use with caution.\n"
     ]
    },
    {
     "data": {
      "text/plain": [
       "''"
      ]
     },
     "execution_count": 5,
     "metadata": {},
     "output_type": "execute_result"
    }
   ],
   "source": [
    "python_repl.run(\"x = 1\")"
   ]
  },
  {
   "cell_type": "code",
   "execution_count": 8,
   "id": "76c1a039-0cbc-48ab-a209-e4a8f3a29e18",
   "metadata": {},
   "outputs": [
    {
     "data": {
      "text/plain": [
       "'NameError(\"name \\'x\\' is not defined\")'"
      ]
     },
     "execution_count": 8,
     "metadata": {},
     "output_type": "execute_result"
    }
   ],
   "source": [
    "python_repl.run(\"print(x + 1)\")"
   ]
  },
  {
   "cell_type": "code",
   "execution_count": null,
   "id": "2a96e84f-013a-419a-8485-4a7aa52c8e0f",
   "metadata": {},
   "outputs": [],
   "source": []
  }
 ],
 "metadata": {
  "kernelspec": {
   "display_name": "rag-redis-demo",
   "language": "python",
   "name": "rag-redis-demo"
  },
  "language_info": {
   "codemirror_mode": {
    "name": "ipython",
    "version": 3
   },
   "file_extension": ".py",
   "mimetype": "text/x-python",
   "name": "python",
   "nbconvert_exporter": "python",
   "pygments_lexer": "ipython3",
   "version": "3.10.9"
  }
 },
 "nbformat": 4,
 "nbformat_minor": 5
}
