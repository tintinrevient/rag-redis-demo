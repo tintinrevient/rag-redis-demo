{
 "cells": [
  {
   "cell_type": "code",
   "execution_count": 93,
   "id": "0adf664b-62d4-44f6-bc9c-8a966ebdfc69",
   "metadata": {},
   "outputs": [],
   "source": [
    "import os\n",
    "import redis\n",
    "from redis.commands.search.query import Query\n",
    "from redis.commands.search.field import (\n",
    "    NumericField,\n",
    "    TagField,\n",
    "    TextField,\n",
    "    VectorField,\n",
    ")\n",
    "from redis.commands.search.indexDefinition import IndexDefinition, IndexType\n",
    "\n",
    "from sentence_transformers import SentenceTransformer, util\n",
    "\n",
    "import numpy as np\n",
    "\n",
    "from my_util import get_chunks, get_topk_similarity\n",
    "from typing import List"
   ]
  },
  {
   "cell_type": "markdown",
   "id": "4f72c5c6-fd04-4c98-81e2-82a993fb0e67",
   "metadata": {},
   "source": [
    "## Ingest Redis"
   ]
  },
  {
   "cell_type": "code",
   "execution_count": 2,
   "id": "32144a1b-6370-44c7-9605-23915eccf9ec",
   "metadata": {},
   "outputs": [],
   "source": [
    "content, metadata = get_chunks(company_name=\"novo_nordisk\")"
   ]
  },
  {
   "cell_type": "code",
   "execution_count": 3,
   "id": "c9437bef-d3d1-4de0-b369-5bfd70ead91e",
   "metadata": {},
   "outputs": [],
   "source": [
    "embedder = SentenceTransformer(\n",
    "    \"sentence-transformers/msmarco-distilbert-base-tas-b\",\n",
    "    cache_folder=\"cache\",\n",
    ")"
   ]
  },
  {
   "cell_type": "code",
   "execution_count": 89,
   "id": "217f77cb-3e26-4a51-b2a3-f94c92aa723b",
   "metadata": {},
   "outputs": [],
   "source": [
    "embeddings = embedder.encode(content)"
   ]
  },
  {
   "cell_type": "code",
   "execution_count": 90,
   "id": "ad0715c3-9cea-404c-850d-09c565e336f4",
   "metadata": {},
   "outputs": [
    {
     "name": "stdout",
     "output_type": "stream",
     "text": [
      "(327, 768)\n"
     ]
    }
   ],
   "source": [
    "print(embeddings.shape)"
   ]
  },
  {
   "cell_type": "code",
   "execution_count": 24,
   "id": "f29b0a9d-e4cc-488a-a710-ab21a1580e72",
   "metadata": {},
   "outputs": [],
   "source": [
    "redis_client = redis.Redis(host=\"localhost\", port=6379, decode_responses=True)"
   ]
  },
  {
   "cell_type": "code",
   "execution_count": 25,
   "id": "fc3dd3d1-f745-4734-ab68-715a56a97ce3",
   "metadata": {},
   "outputs": [],
   "source": [
    "def insert_redis_index(client, index_name: str, docs, embeddings, metadata, dim=768):\n",
    "        \n",
    "    pipeline = client.pipeline()\n",
    "    \n",
    "    # insert docs by keys\n",
    "    for idx, doc in enumerate(docs):\n",
    "        redis_key = f\"docs:{idx}\"\n",
    "        pipeline.json().set(redis_key, \"$\", {\"content\": doc})\n",
    "    \n",
    "    res = pipeline.execute()\n",
    "    \n",
    "    # insert embeddings by keys\n",
    "    keys = sorted(client.keys(\"docs:*\"))\n",
    "    \n",
    "    for key, embedding, meta in zip(keys, embeddings, metadata):\n",
    "        pipeline.json().set(key, \"$.content_vector\", embedding)\n",
    "        pipeline.json().set(key, \"$.source\", meta[\"source\"])\n",
    "        pipeline.json().set(key, \"$.start_index\", meta[\"start_index\"])\n",
    "\n",
    "    res = pipeline.execute()\n",
    "    \n",
    "    # create index\n",
    "    schema = (\n",
    "        TextField(\"$.content\", as_name=\"content\"),\n",
    "        TextField(\"$.source\", as_name=\"source\"),\n",
    "        NumericField(\"$.start_index\", as_name=\"start_index\"),\n",
    "        VectorField(\n",
    "            \"$.content_vector\",\n",
    "            \"HNSW\",\n",
    "            {\n",
    "                \"TYPE\": \"FLOAT32\",\n",
    "                \"DIM\": dim,\n",
    "                \"DISTANCE_METRIC\": \"COSINE\",\n",
    "            },\n",
    "            as_name=\"content_vector\",\n",
    "        ),\n",
    "    )\n",
    "\n",
    "    definition = IndexDefinition(prefix=[\"docs:\"], index_type=IndexType.JSON)\n",
    "    \n",
    "    res = client.ft(index_name).create_index(\n",
    "        fields=schema, definition=definition\n",
    "    )\n",
    "    print(res)"
   ]
  },
  {
   "cell_type": "code",
   "execution_count": 27,
   "id": "3aa4b90f-64ad-4e20-ac7a-889e702eef42",
   "metadata": {},
   "outputs": [
    {
     "name": "stdout",
     "output_type": "stream",
     "text": [
      "OK\n"
     ]
    }
   ],
   "source": [
    "insert_redis_index(\n",
    "    client=redis_client,\n",
    "    index_name = \"rag-redis-demo\", \n",
    "    docs=content,\n",
    "    embeddings=embeddings.tolist(), \n",
    "    metadata=metadata, \n",
    "    dim=768\n",
    ")"
   ]
  },
  {
   "cell_type": "markdown",
   "id": "43d10719-e314-44db-9d59-ac679b47bcde",
   "metadata": {},
   "source": [
    "## Search Redis"
   ]
  },
  {
   "cell_type": "code",
   "execution_count": 19,
   "id": "0172f3ee-b998-4048-b08e-53e85ad00878",
   "metadata": {},
   "outputs": [],
   "source": [
    "from langchain.prompts import ChatPromptTemplate\n",
    "from langchain_core.output_parsers import StrOutputParser\n",
    "from langchain_core.pydantic_v1 import BaseModel\n",
    "from langchain_core.runnables import RunnableParallel, RunnablePassthrough\n",
    "from langchain.chat_models import ChatOpenAI\n",
    "from langchain.vectorstores import Redis\n",
    "\n",
    "from langchain_core.vectorstores import VectorStore, VectorStoreRetriever\n",
    "from langchain_core.documents import Document\n",
    "from langchain_core.callbacks.manager import CallbackManagerForRetrieverRun"
   ]
  },
  {
   "cell_type": "code",
   "execution_count": 28,
   "id": "dd1b2cf1-76ea-4666-b1c8-1a38382b2fe5",
   "metadata": {},
   "outputs": [],
   "source": [
    "def query_redis_index(client, query_str: str, index_name, embedder):\n",
    "    queries = [query_str]\n",
    "    encoded_queries = embedder.encode(queries)\n",
    "\n",
    "    sql = (\n",
    "        Query(\"(*)=>[KNN 10 @content_vector $query_vector AS vector_score]\")\n",
    "        .sort_by(\"vector_score\")\n",
    "        .return_fields(\"id\", \"content\", \"content_vector\", \"vector_score\")\n",
    "        .dialect(2)\n",
    "    )\n",
    "\n",
    "    for query, encoded_query in zip(queries, encoded_queries):\n",
    "        query_vector = np.array(encoded_query, dtype=np.float32).tobytes()\n",
    "        result_docs = client.ft(index_name).search(sql, {\"query_vector\": query_vector}).docs\n",
    "\n",
    "        print(f\"Num of results: {len(result_docs)}\")\n",
    "\n",
    "        for result_doc in result_docs:\n",
    "            vector_score = round(1 - float(result_doc.vector_score), 2)\n",
    "            \n",
    "            print(\"{} \\t {} \\t {:.4f}\".format(result_doc.id, query, vector_score))"
   ]
  },
  {
   "cell_type": "code",
   "execution_count": 29,
   "id": "3922535a-6cfb-4bd7-a622-119229e187c9",
   "metadata": {},
   "outputs": [
    {
     "name": "stdout",
     "output_type": "stream",
     "text": [
      "Num of results: 10\n",
      "docs:39 \t what is scope 1 emissions \t 0.8400\n",
      "docs:40 \t what is scope 1 emissions \t 0.8200\n",
      "docs:4 \t what is scope 1 emissions \t 0.8100\n",
      "docs:38 \t what is scope 1 emissions \t 0.7800\n",
      "docs:115 \t what is scope 1 emissions \t 0.7800\n",
      "docs:43 \t what is scope 1 emissions \t 0.7800\n",
      "docs:119 \t what is scope 1 emissions \t 0.7700\n",
      "docs:117 \t what is scope 1 emissions \t 0.7700\n",
      "docs:118 \t what is scope 1 emissions \t 0.7700\n",
      "docs:44 \t what is scope 1 emissions \t 0.7600\n"
     ]
    }
   ],
   "source": [
    "query_redis_index(\n",
    "    client=redis_client,\n",
    "    query_str = \"what is scope 1 emissions\", \n",
    "    index_name=\"rag-redis-demo\", \n",
    "    embedder=embedder,\n",
    ")"
   ]
  },
  {
   "cell_type": "markdown",
   "id": "d5de2f44-7440-4432-a7b7-e3436280fef7",
   "metadata": {},
   "source": [
    "## Generate answer"
   ]
  },
  {
   "cell_type": "markdown",
   "id": "b0cef68b-13c2-4108-993d-8eb8a266538e",
   "metadata": {},
   "source": [
    "### Custom retriever"
   ]
  },
  {
   "cell_type": "code",
   "execution_count": 81,
   "id": "50e32e77-666c-4d96-af8d-36bfe6a91674",
   "metadata": {},
   "outputs": [],
   "source": [
    "class CustomRetriever(VectorStoreRetriever):\n",
    "    vectorstore: VectorStore\n",
    "    search_type: str = \"similarity\"\n",
    "\n",
    "    def _get_relevant_documents(self, query: str, *, run_manager: CallbackManagerForRetrieverRun) -> List[Document]:\n",
    "        \n",
    "        # Option 1: Find cosine similarity, instead of KNN or MMR\n",
    "        # encoded_query = embedder.encode(query)\n",
    "        # result_pairs = get_topk_similarity(\n",
    "        #     k=10, \n",
    "        #     encoded_query=encoded_query, \n",
    "        #     encoded_docs=embeddings, \n",
    "        #     is_cos_sim=True, \n",
    "        #     debug=False\n",
    "        # )\n",
    "        #\n",
    "        # docs_indices = [doc_idx for (doc_idx, score) in result_pairs]\n",
    "        \n",
    "        # Option 2: Hard-coded with the correct answer\n",
    "        docs_indices = [251]\n",
    "        \n",
    "        # Search\n",
    "        results = []\n",
    "        \n",
    "        for doc_idx in docs_indices:\n",
    "            doc = redis_client.json().get(f\"docs:{doc_idx}\")\n",
    "            results.append(doc)\n",
    "        \n",
    "        # Prepare document results\n",
    "        docs = []\n",
    "        \n",
    "        for doc_idx, result in zip(docs_indices, results):\n",
    "            \n",
    "            metadata = {\"id\": doc_idx}  \n",
    "            docs.append(\n",
    "                Document(page_content=result[\"content\"], metadata=metadata)\n",
    "            )\n",
    "        \n",
    "        return docs"
   ]
  },
  {
   "cell_type": "code",
   "execution_count": 82,
   "id": "89955ac3-e801-40e9-853e-f6051151740d",
   "metadata": {},
   "outputs": [],
   "source": [
    "vectorstore = Redis.from_existing_index(\n",
    "    embedding=embedder, \n",
    "    index_name=\"rag-redis-demo\", \n",
    "    schema=\"schema.yml\", \n",
    "    redis_url=\"redis://localhost:6379\",\n",
    ")\n",
    "\n",
    "# search_type=\"similarity\" -> KNN\n",
    "# search_type=\"mmr\" -> MMR\n",
    "# retriever = vectorstore.as_retriever(search_type=\"similarity\")\n",
    "\n",
    "retriever = CustomRetriever(vectorstore=vectorstore)"
   ]
  },
  {
   "cell_type": "markdown",
   "id": "ed01416e-36b4-4612-b38b-bf9030719f65",
   "metadata": {},
   "source": [
    "### Template"
   ]
  },
  {
   "cell_type": "code",
   "execution_count": 83,
   "id": "97a940b6-ed89-4f46-80d4-7b0aef57b6f2",
   "metadata": {},
   "outputs": [],
   "source": [
    "template = \"\"\"\n",
    "Use the following pieces of context from the sustainability report\n",
    "to answer the question. Do not make up an answer if there is no\n",
    "context provided to help answer it.\n",
    "\n",
    "Context:\n",
    "---------\n",
    "{context}\n",
    "\n",
    "---------\n",
    "Question: {question}\n",
    "---------\n",
    "\n",
    "Answer:\n",
    "\"\"\"\n",
    "\n",
    "\n",
    "prompt = ChatPromptTemplate.from_template(template)"
   ]
  },
  {
   "cell_type": "markdown",
   "id": "7a3d59a7-52d7-46ad-ba00-1d0c9923e2fe",
   "metadata": {},
   "source": [
    "### Chain"
   ]
  },
  {
   "cell_type": "code",
   "execution_count": 94,
   "id": "42be5e55-115f-48d2-8672-b030df94b42b",
   "metadata": {},
   "outputs": [],
   "source": [
    "llm = ChatOpenAI(\n",
    "    model_name=\"gpt-3.5-turbo\", \n",
    "    openai_api_key=os.getenv(\"OPENAI_API_KEY\"), \n",
    "    temperature=0\n",
    ")"
   ]
  },
  {
   "cell_type": "code",
   "execution_count": 85,
   "id": "d0660b26-09cd-4bc4-93e2-5ba0899943a1",
   "metadata": {},
   "outputs": [],
   "source": [
    "class Question(BaseModel):\n",
    "    __root__: str"
   ]
  },
  {
   "cell_type": "code",
   "execution_count": 86,
   "id": "e718ec9c-da53-495b-bf53-18c445065f13",
   "metadata": {},
   "outputs": [],
   "source": [
    "chain = (\n",
    "    RunnableParallel({\"context\": retriever, \"question\": RunnablePassthrough()})\n",
    "    | prompt\n",
    "    | llm\n",
    "    | StrOutputParser()\n",
    ").with_types(input_type=Question)"
   ]
  },
  {
   "cell_type": "markdown",
   "id": "3f05ee66-e442-4a4e-a02c-b007e78a0f79",
   "metadata": {},
   "source": [
    "### Chat"
   ]
  },
  {
   "cell_type": "code",
   "execution_count": 87,
   "id": "1ea0942f-2823-4f32-bad7-8ce9532fa36c",
   "metadata": {},
   "outputs": [
    {
     "data": {
      "text/plain": [
       "'The scope 1 emissions for Novo Nordisk is 7.1 thousand tonnes of CO2.'"
      ]
     },
     "execution_count": 87,
     "metadata": {},
     "output_type": "execute_result"
    }
   ],
   "source": [
    "chain.invoke(\"What is the scope 1 emissions?\")\n",
    "# chain.invoke(\"what is scope 1 emissions\")"
   ]
  },
  {
   "cell_type": "code",
   "execution_count": null,
   "id": "e586a49d-0144-46cd-8cfb-f8bf2b8a489b",
   "metadata": {},
   "outputs": [],
   "source": []
  }
 ],
 "metadata": {
  "kernelspec": {
   "display_name": "Python 3 (ipykernel)",
   "language": "python",
   "name": "python3"
  },
  "language_info": {
   "codemirror_mode": {
    "name": "ipython",
    "version": 3
   },
   "file_extension": ".py",
   "mimetype": "text/x-python",
   "name": "python",
   "nbconvert_exporter": "python",
   "pygments_lexer": "ipython3",
   "version": "3.10.9"
  }
 },
 "nbformat": 4,
 "nbformat_minor": 5
}
